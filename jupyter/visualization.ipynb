{
 "cells": [
  {
   "cell_type": "code",
   "execution_count": 2,
   "id": "4ccb1724-4037-4382-aa6e-bae257bfe80e",
   "metadata": {},
   "outputs": [],
   "source": [
    "import numpy as np\n",
    "import matplotlib.pyplot as plt\n",
    "import json"
   ]
  },
  {
   "cell_type": "code",
   "execution_count": 65,
   "id": "86e83467-0899-4e32-906f-4187b03e15d2",
   "metadata": {},
   "outputs": [],
   "source": [
    "def char_to_int(char):\n",
    "    if char == 'D':\n",
    "        return 3\n",
    "    if char == 'P':\n",
    "        return 2\n",
    "    if char == 'F':\n",
    "        return 1"
   ]
  },
  {
   "cell_type": "code",
   "execution_count": 8,
   "id": "6dcd97c5-75fa-4655-b387-0b5a9862e3c4",
   "metadata": {},
   "outputs": [
    {
     "name": "stdout",
     "output_type": "stream",
     "text": [
      "[[{'tile': [{'z': 75}, {'building': 'N'}]}, {'tile': [{'z': 70}, {'building': 'N'}]}, {'tile': [{'z': 70}, {'building': 'N'}]}, {'tile': [{'z': 80}, {'building': 'N'}]}], [{'tile': [{'z': 57}, {'building': 'N'}]}, {'tile': [{'z': 52}, {'building': 'N'}]}, {'tile': [{'z': 52}, {'building': 'N'}]}, {'tile': [{'z': 63}, {'building': 'N'}]}], [{'tile': [{'z': 41}, {'building': 'N'}]}, {'tile': [{'z': 35}, {'building': 'N'}]}, {'tile': [{'z': 39}, {'building': 'N'}]}, {'tile': [{'z': 54}, {'building': 'N'}]}], [{'tile': [{'z': 33}, {'building': 'N'}]}, {'tile': [{'z': 27}, {'building': 'N'}]}, {'tile': [{'z': 33}, {'building': 'N'}]}, {'tile': [{'z': 55}, {'building': 'N'}]}]]\n"
     ]
    }
   ],
   "source": [
    "f = open('../map.json', 'r')\n",
    "json_data = json.loads(f.read())[0]\n",
    "\n",
    "for chunk_line in json_data:\n",
    "    for chunk in chunk_line:\n",
    "        print(chunk[\"chunk_z\"])\n",
    "        break\n",
    "    break\n"
   ]
  }
 ],
 "metadata": {
  "kernelspec": {
   "display_name": "Python 3 (ipykernel)",
   "language": "python",
   "name": "python3"
  },
  "language_info": {
   "codemirror_mode": {
    "name": "ipython",
    "version": 3
   },
   "file_extension": ".py",
   "mimetype": "text/x-python",
   "name": "python",
   "nbconvert_exporter": "python",
   "pygments_lexer": "ipython3",
   "version": "3.10.14"
  }
 },
 "nbformat": 4,
 "nbformat_minor": 5
}
